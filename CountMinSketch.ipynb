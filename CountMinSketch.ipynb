{
 "cells": [
  {
   "cell_type": "markdown",
   "metadata": {},
   "source": [
    "# 🧑‍🎓Student:\n",
    "## Marwan Mashra"
   ]
  },
  {
   "cell_type": "code",
   "execution_count": 60,
   "metadata": {},
   "outputs": [],
   "source": [
    "import random\n",
    "from tabulate import tabulate\n",
    "from collections import Counter\n",
    "from tqdm import tqdm\n",
    "import math\n"
   ]
  },
  {
   "cell_type": "code",
   "execution_count": 61,
   "metadata": {},
   "outputs": [],
   "source": [
    "class CountMinSketch:\n",
    "    def __init__(self, d, w, universe=['A','B','C','D','E']):\n",
    "        \"\"\"_summary_\n",
    "\n",
    "        Args:\n",
    "            d (int): number of hash functions\n",
    "            w (int): size of hash \n",
    "        \"\"\"\n",
    "        self.d = d \n",
    "        self.w = w\n",
    "        self.universe = universe\n",
    "\n",
    "        self.p = 1223543677 # a (relatively) large prime\n",
    "        self.epsilon = math.e/self.w\n",
    "        self.delta = 1/math.exp(self.d)\n",
    "\n",
    "        self.a = [random.randrange(self.p) for i in range(d)]\n",
    "        self.b = [random.randrange(self.p) for i in range(d)]\n",
    "\n",
    "        self.array_init()\n",
    "\n",
    "    def array_init(self):\n",
    "        \"\"\" initialise all the array values to 0\n",
    "        \"\"\"\n",
    "        self.array = [[0 for x in range(self.w)] for y in range(self.d)] \n",
    "\n",
    "    def hash(self, x, a, b):\n",
    "        \"\"\" returns the hash of x in a hash function using a & b\n",
    "\n",
    "        Args:\n",
    "            x (any): element to be hashed\n",
    "            a (float): values that will parametrize the hash function\n",
    "            b (float): values that will parametrize the hash function\n",
    "\n",
    "        Returns:\n",
    "            int : the hash of x for the hash_a_b (integer between 0 and w-1)\n",
    "        \"\"\"\n",
    "        return ((a*hash(x)+b)%self.p)%self.w\n",
    "\n",
    "    def in_universe(self, x):\n",
    "        \"\"\"check if x is an element of the universe\n",
    "\n",
    "        Args:\n",
    "            x (any): element to check\n",
    "\n",
    "        Returns:\n",
    "            Bool: whether x is an element of the universe\n",
    "        \"\"\"\n",
    "        if x in self.universe:\n",
    "            return True\n",
    "        else:\n",
    "            print(f\"ERROR: {x} is not in the universe\")\n",
    "            return False\n",
    "\n",
    "    def get_hashes(self, x):\n",
    "        \"\"\" computes all the hashes of x for the array a & b\n",
    "\n",
    "        Args:\n",
    "            x (any): element to be hashed\n",
    "\n",
    "        Returns:\n",
    "            list(int): a list of all hashes of x for the a,b array\n",
    "        \"\"\"\n",
    "        hashes = []\n",
    "        for a, b in zip(self.a, self.b):\n",
    "            hashes.append(self.hash(x, a, b))\n",
    "        return hashes\n",
    "\n",
    "    def __str__(self):\n",
    "        \"\"\" returns the table in which hashes are stored\n",
    "\n",
    "        Returns:\n",
    "            str: a string representing the table\n",
    "        \"\"\"\n",
    "        header = [[f'h{d}']+self.array[d] for d in range(self.d)]\n",
    "        return tabulate(header,tablefmt='grid')\n",
    "\n",
    "    def update(self, x, show=False):\n",
    "        \"\"\" update the table to add the element x to the count \n",
    "\n",
    "        Args:\n",
    "            x (any): element of the universe to be added\n",
    "            show (bool, optional): print the updated table. Defaults to False.\n",
    "        \"\"\"\n",
    "        if self.in_universe(x):\n",
    "            hashes = self.get_hashes(x)\n",
    "            for i, h in enumerate(hashes):\n",
    "                self.array[i][h] += 1\n",
    "\n",
    "            if show:\n",
    "                print(self)\n",
    "\n",
    "    def query(self, x):\n",
    "        \"\"\" returns the count of x\n",
    "\n",
    "        Args:\n",
    "            x (any): element of the universe for which we want the count\n",
    "\n",
    "        Returns:\n",
    "            int: count of x (>0)\n",
    "        \"\"\"\n",
    "        if self.in_universe(x):\n",
    "            hashes = self.get_hashes(x)\n",
    "            counts = [self.array[i][h] for i, h in enumerate(hashes)]\n",
    "            return min(counts)\n",
    "\n",
    "        \n",
    "    def random_init(self, k):\n",
    "        \"\"\" generates k random element of the universe and add them to the table\n",
    "\n",
    "        Args:\n",
    "            k (int): how many element to add (>0)\n",
    "\n",
    "        Returns:\n",
    "            Counter: a counter object of all elements of the universe (see https://docs.python.org/3/library/collections.html#collections.Counter) \n",
    "        \"\"\"\n",
    "        self.array_init()\n",
    "        choices = random.choices(self.universe, k = k)\n",
    "        for x in tqdm(choices):\n",
    "            self.update(x)\n",
    "        return Counter(choices)\n",
    "\n",
    "    def evaluate(self, test_size=100000):\n",
    "        \"\"\" computes the loss for the given (ϵ,δ) approximation. \n",
    "        The loss is the sum of differences between the count and the approximated count divided by the sum of all the counts.\n",
    "\n",
    "        Args:\n",
    "            test_size (int, optional): the size of test for the evaluation, bigger = more precise. Defaults to 100000.\n",
    "        \"\"\"\n",
    "        self.array_init()\n",
    "        gold_counter = self.random_init(test_size)\n",
    "        mse = []\n",
    "        for x in self.universe:\n",
    "            count = self.query(x)\n",
    "            mse.append(abs(gold_counter[x]-count))\n",
    "\n",
    "        loss = sum(mse)/test_size\n",
    "        print(f'for (ϵ={self.epsilon}, δ={self.delta}) approximation, the loss is {loss}')\n",
    "        \n",
    "        self.array_init()\n",
    "        "
   ]
  },
  {
   "cell_type": "markdown",
   "metadata": {},
   "source": [
    "## Initialize the counter"
   ]
  },
  {
   "cell_type": "code",
   "execution_count": 62,
   "metadata": {},
   "outputs": [
    {
     "name": "stdout",
     "output_type": "stream",
     "text": [
      "Before updating\n",
      "A : 0\n",
      "B : 0\n",
      "C : 0\n",
      "After updating\n",
      "A : 3\n",
      "B : 2\n",
      "C : 1\n"
     ]
    }
   ],
   "source": [
    "counter = CountMinSketch(10, 30)  # 10 hash functions with arrays of size 30\n",
    "\n",
    "print(\"Before updating\")\n",
    "for x in ['A','B','C']:\n",
    "    print(f'{x} : {counter.query(x)}')\n",
    "\n",
    "for x in ['A','A','A','B','B','C']:\n",
    "    counter.update(x)\n",
    "\n",
    "print(\"After updating\")\n",
    "for x in ['A','B','C']:\n",
    "    print(f'{x} : {counter.query(x)}')\n"
   ]
  },
  {
   "cell_type": "markdown",
   "metadata": {},
   "source": [
    "## Print the table"
   ]
  },
  {
   "cell_type": "code",
   "execution_count": 63,
   "metadata": {},
   "outputs": [
    {
     "name": "stdout",
     "output_type": "stream",
     "text": [
      "+----+---+---+---+---+---+---+---+---+---+---+---+---+---+---+---+---+---+---+---+---+---+---+---+---+---+---+---+---+---+---+\n",
      "| h0 | 0 | 0 | 0 | 0 | 0 | 3 | 0 | 1 | 0 | 0 | 0 | 0 | 0 | 0 | 0 | 0 | 0 | 0 | 2 | 0 | 0 | 0 | 0 | 0 | 0 | 0 | 0 | 0 | 0 | 0 |\n",
      "+----+---+---+---+---+---+---+---+---+---+---+---+---+---+---+---+---+---+---+---+---+---+---+---+---+---+---+---+---+---+---+\n",
      "| h1 | 0 | 2 | 0 | 0 | 0 | 0 | 0 | 0 | 0 | 0 | 1 | 0 | 0 | 0 | 0 | 0 | 0 | 0 | 0 | 0 | 3 | 0 | 0 | 0 | 0 | 0 | 0 | 0 | 0 | 0 |\n",
      "+----+---+---+---+---+---+---+---+---+---+---+---+---+---+---+---+---+---+---+---+---+---+---+---+---+---+---+---+---+---+---+\n",
      "| h2 | 0 | 0 | 0 | 0 | 0 | 0 | 0 | 2 | 0 | 0 | 0 | 0 | 0 | 0 | 1 | 0 | 0 | 0 | 0 | 0 | 0 | 0 | 0 | 3 | 0 | 0 | 0 | 0 | 0 | 0 |\n",
      "+----+---+---+---+---+---+---+---+---+---+---+---+---+---+---+---+---+---+---+---+---+---+---+---+---+---+---+---+---+---+---+\n",
      "| h3 | 0 | 1 | 0 | 0 | 0 | 0 | 0 | 0 | 0 | 0 | 3 | 0 | 0 | 2 | 0 | 0 | 0 | 0 | 0 | 0 | 0 | 0 | 0 | 0 | 0 | 0 | 0 | 0 | 0 | 0 |\n",
      "+----+---+---+---+---+---+---+---+---+---+---+---+---+---+---+---+---+---+---+---+---+---+---+---+---+---+---+---+---+---+---+\n",
      "| h4 | 0 | 0 | 0 | 0 | 1 | 0 | 0 | 0 | 0 | 0 | 0 | 0 | 0 | 0 | 0 | 0 | 0 | 0 | 0 | 0 | 0 | 0 | 3 | 2 | 0 | 0 | 0 | 0 | 0 | 0 |\n",
      "+----+---+---+---+---+---+---+---+---+---+---+---+---+---+---+---+---+---+---+---+---+---+---+---+---+---+---+---+---+---+---+\n",
      "| h5 | 0 | 0 | 0 | 0 | 0 | 0 | 0 | 1 | 0 | 0 | 3 | 0 | 0 | 0 | 0 | 0 | 0 | 0 | 0 | 0 | 0 | 0 | 0 | 0 | 0 | 0 | 0 | 0 | 0 | 2 |\n",
      "+----+---+---+---+---+---+---+---+---+---+---+---+---+---+---+---+---+---+---+---+---+---+---+---+---+---+---+---+---+---+---+\n",
      "| h6 | 0 | 0 | 0 | 0 | 0 | 0 | 0 | 1 | 0 | 0 | 0 | 3 | 0 | 0 | 0 | 0 | 0 | 0 | 0 | 0 | 0 | 0 | 0 | 0 | 0 | 0 | 2 | 0 | 0 | 0 |\n",
      "+----+---+---+---+---+---+---+---+---+---+---+---+---+---+---+---+---+---+---+---+---+---+---+---+---+---+---+---+---+---+---+\n",
      "| h7 | 0 | 0 | 0 | 0 | 0 | 0 | 0 | 0 | 0 | 0 | 0 | 0 | 0 | 0 | 3 | 0 | 0 | 2 | 0 | 0 | 0 | 0 | 0 | 0 | 0 | 0 | 0 | 0 | 1 | 0 |\n",
      "+----+---+---+---+---+---+---+---+---+---+---+---+---+---+---+---+---+---+---+---+---+---+---+---+---+---+---+---+---+---+---+\n",
      "| h8 | 0 | 0 | 0 | 0 | 0 | 3 | 0 | 0 | 0 | 0 | 0 | 0 | 0 | 0 | 0 | 2 | 1 | 0 | 0 | 0 | 0 | 0 | 0 | 0 | 0 | 0 | 0 | 0 | 0 | 0 |\n",
      "+----+---+---+---+---+---+---+---+---+---+---+---+---+---+---+---+---+---+---+---+---+---+---+---+---+---+---+---+---+---+---+\n",
      "| h9 | 0 | 0 | 0 | 0 | 0 | 0 | 2 | 0 | 0 | 0 | 0 | 0 | 0 | 0 | 0 | 3 | 0 | 0 | 0 | 0 | 0 | 0 | 0 | 0 | 0 | 0 | 0 | 0 | 0 | 1 |\n",
      "+----+---+---+---+---+---+---+---+---+---+---+---+---+---+---+---+---+---+---+---+---+---+---+---+---+---+---+---+---+---+---+\n"
     ]
    }
   ],
   "source": [
    "print(counter)"
   ]
  },
  {
   "cell_type": "markdown",
   "metadata": {},
   "source": [
    "## Insert random elements"
   ]
  },
  {
   "cell_type": "code",
   "execution_count": 64,
   "metadata": {},
   "outputs": [
    {
     "name": "stderr",
     "output_type": "stream",
     "text": [
      "100%|██████████| 100000/100000 [00:00<00:00, 154739.45it/s]\n"
     ]
    },
    {
     "data": {
      "text/plain": [
       "Counter({'C': 19702, 'D': 19916, 'B': 20151, 'A': 20073, 'E': 20158})"
      ]
     },
     "execution_count": 64,
     "metadata": {},
     "output_type": "execute_result"
    }
   ],
   "source": [
    "counter.random_init(100000)"
   ]
  },
  {
   "cell_type": "code",
   "execution_count": 65,
   "metadata": {},
   "outputs": [
    {
     "name": "stdout",
     "output_type": "stream",
     "text": [
      "A : 20073\n",
      "B : 20151\n",
      "C : 19702\n",
      "D : 19916\n",
      "E : 20158\n"
     ]
    }
   ],
   "source": [
    "for x in counter.universe:\n",
    "    print(f'{x} : {counter.query(x)}')"
   ]
  },
  {
   "cell_type": "markdown",
   "metadata": {},
   "source": [
    "## Evaluate"
   ]
  },
  {
   "cell_type": "markdown",
   "metadata": {},
   "source": [
    "The evaluation is done using the following Loss function:\n",
    "\n",
    "$$\n",
    "\n",
    "Loss = \\frac{\\sum_{i=0}^{len(U)-1} abs(RealCount(U_i) - CountMinSketch(U_i))}{\\sum_{i=0}^{len(U)-1} RealCount(U_i)}\n",
    "\n",
    "$$\n",
    "\n",
    "$U$ : The Universe\n",
    "\n",
    "$RealCount$ : The actual count\n",
    "\n",
    "$CountMinSketch$ : The count using MinSketch"
   ]
  },
  {
   "cell_type": "code",
   "execution_count": 66,
   "metadata": {},
   "outputs": [
    {
     "name": "stderr",
     "output_type": "stream",
     "text": [
      "100%|██████████| 100000/100000 [00:00<00:00, 152109.62it/s]"
     ]
    },
    {
     "name": "stdout",
     "output_type": "stream",
     "text": [
      "for (ϵ=0.09060939428196817, δ=4.539992976248485e-05) approximation, the loss is 0.0\n"
     ]
    },
    {
     "name": "stderr",
     "output_type": "stream",
     "text": [
      "\n"
     ]
    }
   ],
   "source": [
    "counter.evaluate()"
   ]
  },
  {
   "cell_type": "markdown",
   "metadata": {},
   "source": [
    "### Evaluate different values for d & w"
   ]
  },
  {
   "cell_type": "code",
   "execution_count": 67,
   "metadata": {},
   "outputs": [
    {
     "name": "stderr",
     "output_type": "stream",
     "text": [
      "100%|██████████| 100000/100000 [00:00<00:00, 264527.06it/s]"
     ]
    },
    {
     "name": "stdout",
     "output_type": "stream",
     "text": [
      "for (ϵ=0.2718281828459045, δ=0.006737946999085467) approximation, the loss is 0.0\n"
     ]
    },
    {
     "name": "stderr",
     "output_type": "stream",
     "text": [
      "\n"
     ]
    }
   ],
   "source": [
    "counter1 = CountMinSketch(5, 10)\n",
    "counter1.evaluate()"
   ]
  },
  {
   "cell_type": "code",
   "execution_count": 68,
   "metadata": {},
   "outputs": [
    {
     "name": "stderr",
     "output_type": "stream",
     "text": [
      "100%|██████████| 100000/100000 [00:00<00:00, 258963.28it/s]"
     ]
    },
    {
     "name": "stdout",
     "output_type": "stream",
     "text": [
      "for (ϵ=0.543656365691809, δ=0.006737946999085467) approximation, the loss is 0.1995\n"
     ]
    },
    {
     "name": "stderr",
     "output_type": "stream",
     "text": [
      "\n"
     ]
    }
   ],
   "source": [
    "counter2 = CountMinSketch(5, 5)\n",
    "counter2.evaluate()"
   ]
  },
  {
   "cell_type": "code",
   "execution_count": 69,
   "metadata": {},
   "outputs": [
    {
     "name": "stderr",
     "output_type": "stream",
     "text": [
      "100%|██████████| 100000/100000 [00:00<00:00, 370322.00it/s]"
     ]
    },
    {
     "name": "stdout",
     "output_type": "stream",
     "text": [
      "for (ϵ=0.6795704571147613, δ=0.049787068367863944) approximation, the loss is 0.19988\n"
     ]
    },
    {
     "name": "stderr",
     "output_type": "stream",
     "text": [
      "\n"
     ]
    }
   ],
   "source": [
    "counter3 = CountMinSketch(3, 4)\n",
    "counter3.evaluate()"
   ]
  },
  {
   "cell_type": "code",
   "execution_count": 70,
   "metadata": {},
   "outputs": [
    {
     "name": "stderr",
     "output_type": "stream",
     "text": [
      "100%|██████████| 100000/100000 [00:00<00:00, 494966.20it/s]"
     ]
    },
    {
     "name": "stdout",
     "output_type": "stream",
     "text": [
      "for (ϵ=0.543656365691809, δ=0.1353352832366127) approximation, the loss is 0.39906\n"
     ]
    },
    {
     "name": "stderr",
     "output_type": "stream",
     "text": [
      "\n"
     ]
    }
   ],
   "source": [
    "counter4 = CountMinSketch(2, 5)\n",
    "counter4.evaluate()"
   ]
  },
  {
   "cell_type": "code",
   "execution_count": 71,
   "metadata": {},
   "outputs": [
    {
     "name": "stderr",
     "output_type": "stream",
     "text": [
      "100%|██████████| 100000/100000 [00:00<00:00, 260432.63it/s]"
     ]
    },
    {
     "name": "stdout",
     "output_type": "stream",
     "text": [
      "for (ϵ=0.9060939428196817, δ=0.006737946999085467) approximation, the loss is 0.39831\n"
     ]
    },
    {
     "name": "stderr",
     "output_type": "stream",
     "text": [
      "\n"
     ]
    }
   ],
   "source": [
    "counter5 = CountMinSketch(5, 3)\n",
    "counter5.evaluate()"
   ]
  },
  {
   "cell_type": "code",
   "execution_count": 72,
   "metadata": {},
   "outputs": [
    {
     "name": "stderr",
     "output_type": "stream",
     "text": [
      "100%|██████████| 100000/100000 [00:00<00:00, 473862.51it/s]"
     ]
    },
    {
     "name": "stdout",
     "output_type": "stream",
     "text": [
      "for (ϵ=0.9060939428196817, δ=0.1353352832366127) approximation, the loss is 1.39934\n"
     ]
    },
    {
     "name": "stderr",
     "output_type": "stream",
     "text": [
      "\n"
     ]
    }
   ],
   "source": [
    "counter6 = CountMinSketch(2, 3)\n",
    "counter6.evaluate()"
   ]
  }
 ],
 "metadata": {
  "interpreter": {
   "hash": "dd2970738afc46eb75cb987fc9351c35334a088948a4b8985da4d246077f4773"
  },
  "kernelspec": {
   "display_name": "Python 3.10.3 64-bit",
   "language": "python",
   "name": "python3"
  },
  "language_info": {
   "codemirror_mode": {
    "name": "ipython",
    "version": 3
   },
   "file_extension": ".py",
   "mimetype": "text/x-python",
   "name": "python",
   "nbconvert_exporter": "python",
   "pygments_lexer": "ipython3",
   "version": "3.10.4"
  },
  "orig_nbformat": 4
 },
 "nbformat": 4,
 "nbformat_minor": 2
}
